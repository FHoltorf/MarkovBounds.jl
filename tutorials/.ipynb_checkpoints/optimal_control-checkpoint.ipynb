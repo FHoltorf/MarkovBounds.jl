{
 "cells": [
  {
   "cell_type": "markdown",
   "id": "6b314a74",
   "metadata": {},
   "source": [
    "## Optimal Control of Noisy Lotka-Volterra System"
   ]
  },
  {
   "cell_type": "markdown",
   "id": "b3db8e6d",
   "metadata": {},
   "source": [
    "The same techniques used for studying the statistics of stochastic processes can be used to study different variations of stochastic optimal control problems.\n",
    "\n",
    "In this example, we consider a problem from population control. The control system is modeling the interaction between a predator and prey species modeled by the following diffusion dynamcis\n",
    "$$ \n",
    "        \\begin{bmatrix} dx_{1} \\\\ d x_{2} \\end{bmatrix} = \\begin{bmatrix} γ_1 x_1 - γ_2 x_1 x_2 \\\\ \\gamma_4 x_1 x_2 - \\gamma_3 x_2 - x_2 u \\end{bmatrix} \\, dt + \\begin{bmatrix} \\gamma_5 x_1  \\\\ 0 \\end{bmatrix} dW_t\n",
    "$$    \n",
    "The control action u models the hunting effort of the predator species, while x₁ and x₂ refer to the population sizes of both species. The goal is to control the population sizes to a desired level of x₁ = 0.75 and x₂ = 0.5. To that end, we solve the following optimal control problem:\n",
    "$$\n",
    "\\begin{align}\n",
    "        \\min_{u(\\cdot)} \\quad & \\mathbb{E}\\left[ \\int_0^T (x_1(t) - 0.75)^2 + \\frac{(x_2(t) - 0.5)^2}{10} + \\frac{(u(t) - 0.5)^2}{10} dt\\right] \\\\\n",
    "        \\text{s.t.} \\quad    & u(t) ∈ [0,1], \\\\\n",
    "                & x(t) ∈ \\mathbb{R}^2_+, \\\\\n",
    "                & x(0) \\sim \\mu_0\n",
    "\\end{align}\n",
    "$$\n",
    "To solve this problem we define the associated `ControlProcess` in two steps. First, we define the diffusion process via its diffusion matrix, drift coeff. and state space:"
   ]
  },
  {
   "cell_type": "code",
   "execution_count": 8,
   "id": "9d382eda",
   "metadata": {},
   "outputs": [
    {
     "data": {
      "text/plain": [
       "Diffusion Process\n",
       "-----------------------\n",
       "  States: [x₁, x₂]\n",
       "  Drift: [-2.0x₁x₂ + x₁, 2.0x₁x₂ - x₂u - x₂]\n",
       "  Diffusion: [0.0006250000000000001x₁² 0.0; 0.0 0.0]\n",
       "  State space: { (x[1], x[2]) | x[1] ≥ 0, x[2] ≥ 0 }\n"
      ]
     },
     "execution_count": 8,
     "metadata": {},
     "output_type": "execute_result"
    }
   ],
   "source": [
    "using MarkovBounds, MosekTools, Plots, DifferentialEquations\n",
    "@polyvar(x[1:2]) # state variables\n",
    "@polyvar(u) # control variables\n",
    "@polyvar(t) # time variable\n",
    "X = @set(x[1] >= 0 && x[2] >= 0) # state space\n",
    "\n",
    "γ = [1, 2, 1, 2, 0.25*0.1] # model parameters\n",
    "\n",
    "f = [γ[1] * x[1] - γ[2] * x[1] * x[2] ;\n",
    "     γ[4] * x[1] * x[2] - γ[3] * x[2] - x[2]*u] # drift coefficient\n",
    "\n",
    "g = [γ[5]*x[1]; 0] # diffusion coefficient\n",
    "σ = polynomial.(g*g') # diffusion matrix\n",
    "\n",
    "lv = DiffusionProcess(x, f, σ, X, time = t, controls = [u])"
   ]
  },
  {
   "cell_type": "markdown",
   "id": "1c3d455e",
   "metadata": {},
   "source": [
    "In a second step, we define the control process with its objective function and set of admissible control actions."
   ]
  },
  {
   "cell_type": "code",
   "execution_count": 10,
   "id": "b826c88e",
   "metadata": {},
   "outputs": [
    {
     "data": {
      "text/plain": [
       "Control Process\n",
       "-----------------------\n",
       "Diffusion Process\n",
       "-----------------------\n",
       "  States: [x₁, x₂]\n",
       "  Drift: [-2.0x₁x₂ + x₁, 2.0x₁x₂ - x₂u - x₂]\n",
       "  Diffusion: [0.0006250000000000001x₁² 0.0; 0.0 0.0]\n",
       "  State space: { (x[1], x[2]) | x[1] ≥ 0, x[2] ≥ 0 }\n",
       "-----------------------\n",
       "Admissible Controls: { (u) | u ≥ 0, -u + 1 ≥ 0 }\n",
       "Control Horizon: [0, 10.0]\n",
       "Objective Function: 𝔼[∫ x[1]^2 + 0.1*x[2]^2 + 0.1*u^2 - 1.5*x[1] - 0.1*x[2] - 0.1*u + 0.6125 dt + 0.0]\n",
       "\n"
      ]
     },
     "execution_count": 10,
     "metadata": {},
     "output_type": "execute_result"
    }
   ],
   "source": [
    "U = @set(u >= 0 && u <= 1) # set of admissible controls|\n",
    "stagecost = (x[1]-0.75)^2 + (x[2] - 0.5)^2/10 + (u - 0.5)^2/10\n",
    "obj = Lagrange(stagecost) # Lagrange type objective\n",
    "T = 10.0 # control horizon\n",
    "lv_control = ControlProcess(lv, T, U, obj)"
   ]
  },
  {
   "cell_type": "markdown",
   "id": "adbe327d",
   "metadata": {},
   "source": [
    "Now almost everything is set up to determine a lower bound on the objective value associated with the control problem CP. We only need to specify the distribution of the initial state of the process. This specification is done through the moments of the distribution. In this example, we consider the the initial condition to be known deterministically such that the moments are easily computed. The moments are supplied in form of a dictionary mapping the monomial of the state to the corresponding moment.\n",
    "\n",
    "The number of moments that needs to be specified depends on the relaxation order used: If order d is used, all moments up to order d + max(deg(f) - 1, deg(σ) - 2, 0) require specification."
   ]
  },
  {
   "cell_type": "code",
   "execution_count": 11,
   "id": "d9a5ad7b",
   "metadata": {},
   "outputs": [
    {
     "data": {
      "text/plain": [
       "0.20894623580143845 valid (potentially suboptimal)\n"
      ]
     },
     "execution_count": 11,
     "metadata": {},
     "output_type": "execute_result"
    }
   ],
   "source": [
    "order = 6\n",
    "x0 = [1.0, 0.25]\n",
    "μ0 = Dict(x[1]^i*x[2]^j => x0[1]^i*x0[2]^j for i in 0:order+1, j in 0:order+1) # moments of initial distribution\n",
    "trange = range(0, T, length = 11) # discretization of time horizon\n",
    "b = optimal_control(lv_control, μ0, order, trange, () -> Mosek.Optimizer(LOG=0))"
   ]
  },
  {
   "cell_type": "markdown",
   "id": "69e3f45b",
   "metadata": {},
   "source": [
    "From the model output we can further identify a polynomial approximation to the value function. If the time horizon is discretized in more than one piece, this approximation will be a piecewise polynomial. By calling the value_function function as shown below we can extract this piecewise polynomial in the form of two functions. The first output maps any point (x,t) -> to the corresponding polynomial, while the second output is a function that directly evaluates this polynomial at (x,t):"
   ]
  },
  {
   "cell_type": "code",
   "execution_count": 15,
   "id": "8c97a61a",
   "metadata": {},
   "outputs": [],
   "source": [
    "V_poly, V_val = value_function(lv_control, trange, b);"
   ]
  },
  {
   "cell_type": "markdown",
   "id": "375aafb0",
   "metadata": {},
   "source": [
    "This information can be used to construct controllers as shown in the following"
   ]
  },
  {
   "cell_type": "code",
   "execution_count": null,
   "id": "010456d4",
   "metadata": {},
   "outputs": [],
   "source": [
    "urange = 0:0.05:1\n",
    "function controller(x,s)\n",
    "    obj = stagecost + extended_inf_generator(lv, V_poly(s,x))\n",
    "    return urange[argmin([obj(x...,u,s) for u in urange])]\n",
    "end\n",
    "\n",
    "drift(x,p,t) = [f[1](x...), f[2](x..., controller(x, t))]\n",
    "diffusion(x,p,t) = [g[1](x[1]), 0]\n",
    "prob = EnsembleProblem(SDEProblem(drift, diffusion, x0, (0.0, T)))\n",
    "sol = DifferentialEquations.solve(prob, EM(), dt = 0.01, trajectories = 100)\n",
    "\n",
    "p = plot(legend=false, xlabel=\"time\", ylabel=\"population size\")\n",
    "for s in sol\n",
    "    plot!(p, s.t, [u[1] for u in s.u], color=:red, linewidth=0.5)\n",
    "    plot!(p, s.t, [u[2] for u in s.u], color=:blue, linewidth=0.5)\n",
    "end\n",
    "plot!(p, [0,T], [0.75,0.75], style=:dash, color=:black, linewidth=2.5)\n",
    "plot!(p, [0,T], [0.5,0.5], style=:dash, color=:black, linewidth=2.5)\n",
    "display(p)"
   ]
  }
 ],
 "metadata": {
  "kernelspec": {
   "display_name": "Julia 1.6.1",
   "language": "julia",
   "name": "julia-1.6"
  },
  "language_info": {
   "file_extension": ".jl",
   "mimetype": "application/julia",
   "name": "julia",
   "version": "1.6.1"
  }
 },
 "nbformat": 4,
 "nbformat_minor": 5
}
