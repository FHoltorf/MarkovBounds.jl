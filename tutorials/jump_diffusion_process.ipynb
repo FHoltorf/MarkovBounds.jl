{
 "cells": [
  {
   "cell_type": "markdown",
   "id": "82e864ef",
   "metadata": {},
   "source": [
    "## Analysis of modified Cox-Ingersoll-Ross model via moment bounding schemes"
   ]
  },
  {
   "cell_type": "markdown",
   "id": "331f294c",
   "metadata": {},
   "source": [
    "Beyond jump processes modeling stochastic chemical systems, a much wider range of stochastic processes admits computable bounds on stationary and transient moments and related statistics via convex optimization. Generally all jump-diffusion processes of the form\n",
    "$$\n",
    "    dx = f(x) \\, dt + g(x) \\, dW_t + \\sum_{i=1}^n h_i(x) \\, dN_{a_i(x),t}\n",
    "$$\n",
    "can be analyzed as long as the data:\n",
    "        $f$ - drift coefficient\n",
    "        $gg^\\top$ - diffusion matrix\n",
    "        $h_i$ - jumps\n",
    "        $a_i$ - arrival rates\n",
    "are polynomials and the state space of the system is basic closed semialgebraic (i.e., described by finitely many polynomial inequalities) or can at least be reasonably well approximated by a basic closed semialgebraic set. In the following, we show with an example how to set the bounding problems up and compute relevant statistics.\n",
    "\n",
    "Let us consider the simple Cox-Ingersoll-Ross (CIR) model for the dynamics of interest rates\n",
    "$$    \n",
    "    dx =  \\kappa(\\theta-x) \\, dt + \\sigma \\sqrt{x} \\, dW_t\n",
    "$$\n",
    "As can be seen from the model this is a pure diffusion process. Such a process is defined as follows:"
   ]
  },
  {
   "cell_type": "code",
   "execution_count": 2,
   "id": "ca500228",
   "metadata": {},
   "outputs": [
    {
     "data": {
      "text/plain": [
       "Diffusion Process\n",
       "-----------------------\n",
       "  States: [x]\n",
       "  Drift: [-0.15x + 0.0045]\n",
       "  Diffusion: [0.0025000000000000005x]\n",
       "  State space: { (x) | x ≥ 0 }\n"
      ]
     },
     "execution_count": 2,
     "metadata": {},
     "output_type": "execute_result"
    }
   ],
   "source": [
    "using MarkovBounds, Plots, MosekTools\n",
    "κ, θ, σ = 0.15, 0.03, 0.05 # model parameters\n",
    "@polyvar(x) # states (interest rate)\n",
    "f = κ*(θ-x) # drift coefficient\n",
    "g = σ^2*x   # diffusion matrix (outer product )\n",
    "X = @set(x >= 0) # support/state space\n",
    "\n",
    "cir = DiffusionProcess(x, f, g, X)"
   ]
  },
  {
   "cell_type": "markdown",
   "id": "5157f062",
   "metadata": {},
   "source": [
    "With the diffusion process defined, we can bound interesting quantities such as the long term average or variance of the interest rate x simply by calling"
   ]
  },
  {
   "cell_type": "code",
   "execution_count": 18,
   "id": "693196e3",
   "metadata": {},
   "outputs": [
    {
     "name": "stdout",
     "output_type": "stream",
     "text": [
      "True stationary mean of interest rate lies in [0.029999998012495213, 0.030000001987504785]\n",
      "True stationary variance of interest rate lies below 0.00025000608711154735\n"
     ]
    }
   ],
   "source": [
    "mean = stationary_mean(cir, x, 2, () -> Mosek.Optimizer(LOG = 0));\n",
    "println(\"True stationary mean of interest rate lies in [$(mean[1].value), $(mean[2].value)]\")\n",
    "var = stationary_variance(cir, x, 2, () -> Mosek.Optimizer(LOG = 0));\n",
    "println(\"True stationary variance of interest rate lies below $(var.value)\")"
   ]
  },
  {
   "cell_type": "markdown",
   "id": "02364ec6",
   "metadata": {},
   "source": [
    "Similarly, bounds along a trajectory can be evaluated with ease. In order to showcase how also jump-diffusion are dealt with, let us assume that the interest rate drops to half of its value at random times characterized by a Poisson process with rate a(x) = 0.035 x. To define this process, we can simply define the jump component separately as a jump process:"
   ]
  },
  {
   "cell_type": "code",
   "execution_count": 25,
   "id": "01c3bae6",
   "metadata": {},
   "outputs": [
    {
     "data": {
      "text/plain": [
       "Jump Process\n",
       "-----------------------\n",
       "  States: [x]\n",
       "  Propensities: [10x]\n",
       "  Jumps: [[0.5x]]\n",
       "  State Space: { (x) | x ≥ 0 }\n"
      ]
     },
     "execution_count": 25,
     "metadata": {},
     "output_type": "execute_result"
    }
   ],
   "source": [
    "a = 10*x # arrival rate\n",
    "h = x/2 # jump (interest rate jumps to half its value)\n",
    "jumps = JumpProcess(x, a, h, X)"
   ]
  },
  {
   "cell_type": "markdown",
   "id": "82470698",
   "metadata": {},
   "source": [
    "The overall jump-diffusion process is then defined in terms of the jump and diffusion process:"
   ]
  },
  {
   "cell_type": "code",
   "execution_count": 26,
   "id": "32e5bac4",
   "metadata": {},
   "outputs": [
    {
     "data": {
      "text/plain": [
       "Jump-Diffusion Process\n",
       "-----------------------\n",
       "  States: [x]\n",
       "  Propensities: [10x]\n",
       "  Jumps: [[0.5x]]\n",
       "  Drift: [-0.15x + 0.0045]\n",
       "  Diffusion: [0.0025000000000000005x]\n",
       "  State Space: { (x) | x ≥ 0, x ≥ 0 }\n"
      ]
     },
     "execution_count": 26,
     "metadata": {},
     "output_type": "execute_result"
    }
   ],
   "source": [
    "jumping_cir = JumpDiffusionProcess(jumps, cir)"
   ]
  },
  {
   "cell_type": "markdown",
   "id": "a749623a",
   "metadata": {},
   "source": [
    "Alternatively the process could also be defined in terms of the whole set of problem data:\n",
    "\n",
    "``cir_jump = JumpDiffusionProcess(x, a, h, f, g, X)``\n",
    "    \n",
    "Now we can for example study the evolution of means and variances of this process over time:"
   ]
  },
  {
   "cell_type": "code",
   "execution_count": null,
   "id": "b3f8effc",
   "metadata": {},
   "outputs": [],
   "source": [
    "Ts = [0.1, 0.25, 0.5, 1.0, 2, 3, 4, 5, 6, 7, 8, 9, 10] # time points to probe mean and variance at\n",
    "x0 = 0.01 # initial condition (deterministic - assumed)\n",
    "order = 4 # relaxation order used\n",
    "nT = 10 # number of time intervals used to discretize the time domain\n",
    "μ0 = Dict(x^i => x0^i for i in 0:order+1) # moments of the initial distribution\n",
    "var_bounds, mean_bounds = [], []\n",
    "for T in Ts\n",
    "    trange = range(0, T, length = nT + 1)\n",
    "    mean = transient_mean(jumping_cir, μ0, x, order, trange, () -> Mosek.Optimizer(LOG = 0))\n",
    "    push!(mean_bounds, mean)\n",
    "    var = transient_variance(jumping_cir, μ0, x, order, trange, () -> Mosek.Optimizer(LOG = 0))\n",
    "    push!(var_bounds, var)\n",
    "end\n",
    "p = plot(xlabel=\"time\", ylabel=\"interest rate\", legend=:bottomright)\n",
    "plot!(p, Ts, [b[1].value for b in mean_bounds], marker = :^, color=:blue, label=\"mean lower bound\")\n",
    "plot!(p, Ts, [b[2].value for b in mean_bounds], marker = :v, color=:red, label=\"mean upper bound\")\n",
    "plot!(p, Ts, sqrt.([var.value for var in var_bounds]), marker = :v, color=:red, linestyle=:dash, label=\"std upper bound\")\n",
    "display(p)"
   ]
  },
  {
   "cell_type": "markdown",
   "id": "1eb550c8",
   "metadata": {},
   "source": [
    "In case we care more about long term predictions of the interest rate, we may wanna study the stationary mean and variance of the interest rate"
   ]
  },
  {
   "cell_type": "code",
   "execution_count": 24,
   "id": "1d28f898",
   "metadata": {},
   "outputs": [
    {
     "name": "stdout",
     "output_type": "stream",
     "text": [
      "True stationary mean of interest rate lies in [0.0282728093956697, 0.028633543492404375]\n",
      "True stationary variance of interest rate lies below 0.00023696007813905331\n"
     ]
    }
   ],
   "source": [
    "mean = stationary_mean(jumping_cir, x, 2, () -> Mosek.Optimizer(LOG = 0));\n",
    "println(\"True stationary mean of interest rate lies in [$(mean[1].value), $(mean[2].value)]\")\n",
    "var = stationary_variance(jumping_cir, x, 2, () -> Mosek.Optimizer(LOG = 0));\n",
    "println(\"True stationary variance of interest rate lies below $(var.value)\")"
   ]
  }
 ],
 "metadata": {
  "kernelspec": {
   "display_name": "Julia 1.6.1",
   "language": "julia",
   "name": "julia-1.6"
  },
  "language_info": {
   "file_extension": ".jl",
   "mimetype": "application/julia",
   "name": "julia",
   "version": "1.6.1"
  }
 },
 "nbformat": 4,
 "nbformat_minor": 5
}
